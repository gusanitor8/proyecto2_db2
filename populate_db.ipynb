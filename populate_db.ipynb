{
 "cells": [
  {
   "cell_type": "markdown",
   "metadata": {},
   "source": [
    "# Carga Inicial de datos a Aura"
   ]
  },
  {
   "cell_type": "markdown",
   "metadata": {},
   "source": [
    "**Generar los csv de nodos y relaciones**"
   ]
  },
  {
   "cell_type": "code",
   "execution_count": null,
   "metadata": {},
   "outputs": [],
   "source": [
    "from model.data_generator import DataGenerator\n",
    "\n",
    "# Generar 5000 nodos\n",
    "dg = DataGenerator(fraud_limit=10000, no_of_accounts=30, no_of_companies=10, no_of_persons=10)\n",
    "dg.run()"
   ]
  },
  {
   "cell_type": "markdown",
   "metadata": {},
   "source": [
    "**Procesar y cargar los csv a Aura**"
   ]
  },
  {
   "cell_type": "code",
   "execution_count": null,
   "metadata": {},
   "outputs": [],
   "source": [
    "from controller.db_connection import *\n",
    "from controller.db_crud import *\n",
    "from controller.csv_processing import *\n",
    "\n",
    "try:\n",
    "\n",
    "    driver = get_driver()\n",
    "    with driver.session() as session:\n",
    "        process_csv_nodes('utils/nodes.csv', session)\n",
    "        process_csv_relationships('utils/relations.csv', session)\n",
    "\n",
    "except Exception as e:\n",
    "    print(f\"ERROR: {e}\")\n",
    "\n",
    "finally:\n",
    "    close_driver()"
   ]
  }
 ],
 "metadata": {
  "kernelspec": {
   "display_name": "venv",
   "language": "python",
   "name": "python3"
  },
  "language_info": {
   "name": "python",
   "version": "3.11.6"
  }
 },
 "nbformat": 4,
 "nbformat_minor": 2
}
