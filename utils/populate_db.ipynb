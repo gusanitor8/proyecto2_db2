{
 "cells": [
  {
   "cell_type": "markdown",
   "metadata": {},
   "source": [
    "# Carga Inicial de datos a Aura"
   ]
  },
  {
   "cell_type": "markdown",
   "metadata": {},
   "source": [
    "**Generar los csv de nodos y relaciones**"
   ]
  },
  {
   "cell_type": "code",
   "execution_count": 15,
   "metadata": {
    "ExecuteTime": {
     "end_time": "2024-04-17T08:16:22.528977Z",
     "start_time": "2024-04-17T08:16:21.951107Z"
    }
   },
   "outputs": [],
   "source": [
    "from model.data_generator import DataGenerator\n",
    "\n",
    "# Generar 5000 nodos\n",
    "# 1250 empresas\n",
    "# 1250 personas\n",
    "# 2500 cuentas\n",
    "dg = DataGenerator(fraud_limit=10000, no_of_accounts=30, no_of_companies=10, no_of_persons=10)\n",
    "dg.run()"
   ]
  },
  {
   "cell_type": "markdown",
   "metadata": {},
   "source": [
    "**Procesar y cargar los csv a Aura**"
   ]
  },
  {
   "cell_type": "code",
   "execution_count": 16,
   "metadata": {
    "ExecuteTime": {
     "end_time": "2024-04-17T08:16:22.613038Z",
     "start_time": "2024-04-17T08:16:22.537832Z"
    }
   },
   "outputs": [
    {
     "name": "stdout",
     "output_type": "stream",
     "text": [
      "ERROR: Failed to load credentials from .env file\n"
     ]
    }
   ],
   "source": [
    "from controller.db_connection import *\n",
    "from controller.db_crud import *\n",
    "from controller.csv_processing import *\n",
    "\n",
    "try:\n",
    "\n",
    "    driver = get_driver()\n",
    "    with driver.session() as session:\n",
    "        process_csv_nodes('utils/nodes.csv', session)\n",
    "        process_csv_relationships('utils/relations.csv', session)\n",
    "\n",
    "except Exception as e:\n",
    "    print(f\"ERROR: {e}\")\n",
    "\n",
    "finally:\n",
    "    close_driver()"
   ]
  }
 ],
 "metadata": {
  "kernelspec": {
   "display_name": "venv",
   "language": "python",
   "name": "python3"
  },
  "language_info": {
   "codemirror_mode": {
    "name": "ipython",
    "version": 3
   },
   "file_extension": ".py",
   "mimetype": "text/x-python",
   "name": "python",
   "nbconvert_exporter": "python",
   "pygments_lexer": "ipython3",
   "version": "3.11.6"
  }
 },
 "nbformat": 4,
 "nbformat_minor": 2
}
