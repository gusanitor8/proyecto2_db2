{
 "cells": [
  {
   "cell_type": "markdown",
   "metadata": {},
   "source": [
    "# Carga Inicial de datos a Aura"
   ]
  },
  {
   "cell_type": "markdown",
   "metadata": {},
   "source": [
    "**Generar los csv de nodos y relaciones**"
   ]
  },
  {
   "cell_type": "code",
   "execution_count": 1,
   "metadata": {},
   "outputs": [],
   "source": [
    "from model.data_generator import DataGenerator\n",
    "\n",
    "# Generar 5000 nodos\n",
    "# 1250 empresas\n",
    "# 1250 personas\n",
    "# 2500 cuentas\n",
    "dg = DataGenerator(fraud_limit=10000, no_of_accounts=30, no_of_companies=10, no_of_persons=10)\n",
    "dg.run()"
   ]
  },
  {
   "cell_type": "markdown",
   "metadata": {},
   "source": [
    "**Procesar y cargar los csv a Aura**"
   ]
  },
  {
   "cell_type": "code",
   "execution_count": 2,
   "metadata": {},
   "outputs": [
    {
     "name": "stdout",
     "output_type": "stream",
     "text": [
      "INFO: Successfully connected to Neo4j database\n",
      "SUCCESS: Node with dpi='0.0' created.\n",
      "SUCCESS: Node with dpi='1.0' created.\n",
      "SUCCESS: Node with dpi='2.0' created.\n",
      "SUCCESS: Node with dpi='3.0' created.\n",
      "SUCCESS: Node with dpi='4.0' created.\n",
      "SUCCESS: Node with dpi='5.0' created.\n",
      "SUCCESS: Node with dpi='6.0' created.\n",
      "SUCCESS: Node with dpi='7.0' created.\n",
      "SUCCESS: Node with dpi='8.0' created.\n",
      "SUCCESS: Node with dpi='9.0' created.\n",
      "SUCCESS: Node with nit='0.0' created.\n",
      "SUCCESS: Node with nit='1.0' created.\n",
      "SUCCESS: Node with nit='2.0' created.\n",
      "SUCCESS: Node with nit='3.0' created.\n",
      "SUCCESS: Node with nit='4.0' created.\n",
      "SUCCESS: Node with nit='5.0' created.\n",
      "SUCCESS: Node with nit='6.0' created.\n",
      "SUCCESS: Node with nit='7.0' created.\n",
      "SUCCESS: Node with nit='8.0' created.\n",
      "SUCCESS: Node with nit='9.0' created.\n",
      "SUCCESS: Node with no_cuenta='0.0' created.\n",
      "SUCCESS: Node with no_cuenta='1.0' created.\n",
      "SUCCESS: Node with no_cuenta='2.0' created.\n",
      "SUCCESS: Node with no_cuenta='3.0' created.\n",
      "SUCCESS: Node with no_cuenta='4.0' created.\n",
      "SUCCESS: Node with no_cuenta='5.0' created.\n",
      "SUCCESS: Node with no_cuenta='6.0' created.\n",
      "SUCCESS: Node with no_cuenta='7.0' created.\n",
      "SUCCESS: Node with no_cuenta='8.0' created.\n",
      "SUCCESS: Node with no_cuenta='9.0' created.\n",
      "SUCCESS: Node with no_cuenta='10.0' created.\n",
      "SUCCESS: Node with no_cuenta='11.0' created.\n",
      "SUCCESS: Node with no_cuenta='12.0' created.\n",
      "SUCCESS: Node with no_cuenta='13.0' created.\n",
      "SUCCESS: Node with no_cuenta='14.0' created.\n",
      "SUCCESS: Node with no_cuenta='15.0' created.\n",
      "SUCCESS: Node with no_cuenta='16.0' created.\n",
      "SUCCESS: Node with no_cuenta='17.0' created.\n",
      "SUCCESS: Node with no_cuenta='18.0' created.\n",
      "SUCCESS: Node with no_cuenta='19.0' created.\n",
      "SUCCESS: Node with no_cuenta='20.0' created.\n",
      "SUCCESS: Node with no_cuenta='21.0' created.\n",
      "SUCCESS: Node with no_cuenta='22.0' created.\n",
      "SUCCESS: Node with no_cuenta='23.0' created.\n",
      "SUCCESS: Node with no_cuenta='24.0' created.\n",
      "SUCCESS: Node with no_cuenta='25.0' created.\n",
      "SUCCESS: Node with no_cuenta='26.0' created.\n",
      "SUCCESS: Node with no_cuenta='27.0' created.\n",
      "SUCCESS: Node with no_cuenta='28.0' created.\n",
      "SUCCESS: Node with no_cuenta='29.0' created.\n",
      "SUCCESS: Relationship TRANSACCION created between 0.0 and 11.0.\n",
      "SUCCESS: Relationship TRANSACCION created between 0.0 and 17.0.\n",
      "SUCCESS: Relationship TRANSACCION created between 1.0 and 5.0.\n",
      "SUCCESS: Relationship TRANSACCION created between 1.0 and 4.0.\n",
      "SUCCESS: Relationship TRANSACCION created between 1.0 and 1.0.\n",
      "ERROR: Existing exports of data: object cannot be re-sized\n",
      "INFO: Neo4j driver closed\n"
     ]
    }
   ],
   "source": [
    "from controller.db_connection import *\n",
    "from controller.db_crud import *\n",
    "from controller.csv_processing import *\n",
    "\n",
    "try:\n",
    "\n",
    "    driver = get_driver()\n",
    "    with driver.session() as session:\n",
    "        process_csv_nodes('utils/nodes.csv', session)\n",
    "        process_csv_relationships('utils/relations.csv', session)\n",
    "\n",
    "except Exception as e:\n",
    "    print(f\"ERROR: {e}\")\n",
    "\n",
    "finally:\n",
    "    close_driver()"
   ]
  }
 ],
 "metadata": {
  "kernelspec": {
   "display_name": "venv",
   "language": "python",
   "name": "python3"
  },
  "language_info": {
   "codemirror_mode": {
    "name": "ipython",
    "version": 3
   },
   "file_extension": ".py",
   "mimetype": "text/x-python",
   "name": "python",
   "nbconvert_exporter": "python",
   "pygments_lexer": "ipython3",
   "version": "3.11.6"
  }
 },
 "nbformat": 4,
 "nbformat_minor": 2
}
